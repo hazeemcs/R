{
  "nbformat": 4,
  "nbformat_minor": 0,
  "metadata": {
    "colab": {
      "provenance": [],
      "authorship_tag": "ABX9TyPaALggGZnMTCTa6T2aohIp"
    },
    "kernelspec": {
      "name": "python3",
      "display_name": "Python 3"
    },
    "language_info": {
      "name": "python"
    }
  },
  "cells": [
    {
      "cell_type": "code",
      "execution_count": null,
      "metadata": {
        "colab": {
          "base_uri": "https://localhost:8080/"
        },
        "id": "SNbdZ_iUCrhz",
        "outputId": "6333f530-3076-4ab4-9268-617c9c66c3fe"
      },
      "outputs": [
        {
          "output_type": "stream",
          "name": "stdout",
          "text": [
            "Requirement already satisfied: numpy in /usr/local/lib/python3.10/dist-packages (1.26.4)\n"
          ]
        }
      ],
      "source": [
        "!pip install numpy"
      ]
    },
    {
      "cell_type": "code",
      "source": [
        "import numpy as np\n",
        "\n",
        "def load_data(filename):\n",
        "    data = np.loadtxt(filename, delimiter=',', dtype=str)\n",
        "    X = data[:, :-1].astype(float)\n",
        "    y = data[:, -1]\n",
        "    return X, y\n",
        "\n",
        "X_train, y_train = load_data('/content/train.data')\n",
        "X_test, y_test = load_data('/content/test.data')"
      ],
      "metadata": {
        "id": "8B3ibSH2GYm8"
      },
      "execution_count": 16,
      "outputs": []
    },
    {
      "cell_type": "code",
      "source": [],
      "metadata": {
        "id": "YNLwjYUNGyYf"
      },
      "execution_count": null,
      "outputs": []
    },
    {
      "cell_type": "code",
      "source": [
        "def perceptron(X, y, iterations):\n",
        "    weights = np.zeros(X.shape[1])\n",
        "    bias = 0\n",
        "    for _ in range(iterations):\n",
        "        for xi, target in zip(X, y):\n",
        "            update = target - np.sign(np.dot(xi, weights) + bias)\n",
        "            weights += update * xi\n",
        "            bias += update\n",
        "    return weights, bias"
      ],
      "metadata": {
        "id": "N3d8E_xfG5Zc"
      },
      "execution_count": 17,
      "outputs": []
    },
    {
      "cell_type": "code",
      "source": [
        "def train_test_classifier(X_train, y_train, X_test, y_test, iterations):\n",
        "    weights, bias = perceptron(X_train, y_train, iterations)\n",
        "    train_predictions = np.sign(np.dot(X_train, weights) + bias)\n",
        "    test_predictions = np.sign(np.dot(X_test, weights) + bias)\n",
        "    train_accuracy = np.mean(train_predictions == y_train)\n",
        "    test_accuracy = np.mean(test_predictions == y_test)\n",
        "    return train_accuracy, test_accuracy, weights\n",
        "\n",
        "# Convert to binary datasets for each class pair\n",
        "y_train_1_vs_2 = np.where(y_train == 'class-1', 1, -1)\n",
        "y_test_1_vs_2 = np.where(y_test == 'class-1', 1, -1)\n",
        "\n",
        "y_train_2_vs_3 = np.where(y_train == 'class-2', 1, -1)\n",
        "y_test_2_vs_3 = np.where(y_test == 'class-2', 1, -1)\n",
        "\n",
        "y_train_1_vs_3 = np.where(y_train == 'class-1', 1, -1)\n",
        "y_test_1_vs_3 = np.where(y_test == 'class-1', 1, -1)\n",
        "\n",
        "# Train and test classifier for class 1 vs class 2\n",
        "train_acc_1_vs_2, test_acc_1_vs_2, weights_1_vs_2 = train_test_classifier(X_train, y_train_1_vs_2, X_test, y_test_1_vs_2, 20)\n",
        "\n",
        "# Train and test classifier for class 2 vs class 3\n",
        "train_acc_2_vs_3, test_acc_2_vs_3, weights_2_vs_3 = train_test_classifier(X_train, y_train_2_vs_3, X_test, y_test_2_vs_3, 20)\n",
        "\n",
        "# Train and test classifier for class 1 vs class 3\n",
        "train_acc_1_vs_3, test_acc_1_vs_3, weights_1_vs_3 = train_test_classifier(X_train, y_train_1_vs_3, X_test, y_test_1_vs_3, 20)"
      ],
      "metadata": {
        "id": "541S4YEffBEU"
      },
      "execution_count": 18,
      "outputs": []
    },
    {
      "cell_type": "code",
      "source": [
        "print(f\"Class 1 vs Class 2 - Train Accuracy: {train_acc_1_vs_2}, Test Accuracy: {test_acc_1_vs_2}\")\n",
        "print(f\"Class 2 vs Class 3 - Train Accuracy: {train_acc_2_vs_3}, Test Accuracy: {test_acc_2_vs_3}\")\n",
        "print(f\"Class 1 vs Class 3 - Train Accuracy: {train_acc_1_vs_3}, Test Accuracy: {test_acc_1_vs_3}\")"
      ],
      "metadata": {
        "colab": {
          "base_uri": "https://localhost:8080/"
        },
        "id": "oiRNDoJofFpO",
        "outputId": "17e0d99a-db8a-4b62-c3aa-8621f77d945b"
      },
      "execution_count": 19,
      "outputs": [
        {
          "output_type": "stream",
          "name": "stdout",
          "text": [
            "Class 1 vs Class 2 - Train Accuracy: 1.0, Test Accuracy: 1.0\n",
            "Class 2 vs Class 3 - Train Accuracy: 0.35, Test Accuracy: 0.3333333333333333\n",
            "Class 1 vs Class 3 - Train Accuracy: 1.0, Test Accuracy: 1.0\n"
          ]
        }
      ]
    },
    {
      "cell_type": "code",
      "source": [
        "most_discriminative_feature_1_vs_2 = np.argmax(np.abs(weights_1_vs_2))\n",
        "most_discriminative_feature_2_vs_3 = np.argmax(np.abs(weights_2_vs_3))\n",
        "most_discriminative_feature_1_vs_3 = np.argmax(np.abs(weights_1_vs_3))\n",
        "\n",
        "print(f\"Most discriminative feature for Class 1 vs Class 2: {most_discriminative_feature_1_vs_2}\")\n",
        "print(f\"Most discriminative feature for Class 2 vs Class 3: {most_discriminative_feature_2_vs_3}\")\n",
        "print(f\"Most discriminative feature for Class 1 vs Class 3: {most_discriminative_feature_1_vs_3}\")"
      ],
      "metadata": {
        "colab": {
          "base_uri": "https://localhost:8080/"
        },
        "id": "YsiobFSDfIci",
        "outputId": "9a8c05b3-ffaf-44b3-8e69-e85fcdcb62a4"
      },
      "execution_count": 20,
      "outputs": [
        {
          "output_type": "stream",
          "name": "stdout",
          "text": [
            "Most discriminative feature for Class 1 vs Class 2: 2\n",
            "Most discriminative feature for Class 2 vs Class 3: 3\n",
            "Most discriminative feature for Class 1 vs Class 3: 2\n"
          ]
        }
      ]
    },
    {
      "cell_type": "code",
      "source": [
        "%%writefile README.md\n",
        "# Perceptron Algorithm Implementation\n",
        "\n",
        "## How to Run the Code\n",
        "\n",
        "1. **Access Google Colab**: Go to [colab.research.google.com](https://colab.research.google.com/) and sign in with your Google account.\n",
        "2. **Open the Notebook**: Open the provided notebook.\n",
        "3. **Run the Code**: Execute the cells in the notebook.\n",
        "\n",
        "## Dependencies\n",
        "- Python 3.x\n",
        "- NumPy\n",
        "\n",
        "## File Structure\n",
        "- `train.data`: Training dataset.\n",
        "- `test.data`: Testing dataset.\n",
        "- `README.md`: This file.\n",
        "- `report.pdf`: Assignment report.\n",
        "\n",
        "## Results\n",
        "The results of the training and testing are printed to the console. Screenshots of the results are included in the `report.pdf`."
      ],
      "metadata": {
        "colab": {
          "base_uri": "https://localhost:8080/"
        },
        "id": "A7a4dopCfQFS",
        "outputId": "cca69519-a9f8-46f7-f84e-ee8e0887073e"
      },
      "execution_count": 23,
      "outputs": [
        {
          "output_type": "stream",
          "name": "stdout",
          "text": [
            "Overwriting README.md\n"
          ]
        }
      ]
    },
    {
      "cell_type": "code",
      "source": [
        "import matplotlib.pyplot as plt"
      ],
      "metadata": {
        "id": "YOM6OvO4grRX"
      },
      "execution_count": 24,
      "outputs": []
    },
    {
      "cell_type": "code",
      "source": [
        "import numpy as np\n",
        "\n",
        "def load_data(filename):\n",
        "    data = np.loadtxt(filename, delimiter=',', dtype=str)\n",
        "    X = data[:, :-1].astype(float)\n",
        "    y = data[:, -1]\n",
        "    return X, y\n",
        "\n",
        "X_train, y_train = load_data('/content/train.data')\n",
        "X_test, y_test = load_data('/content/test.data')"
      ],
      "metadata": {
        "id": "Ky2W4rufgwEU"
      },
      "execution_count": 26,
      "outputs": []
    },
    {
      "cell_type": "code",
      "source": [
        "def perceptron(X, y, iterations):\n",
        "    weights = np.zeros(X.shape[1])\n",
        "    bias = 0\n",
        "    for _ in range(iterations):\n",
        "        for xi, target in zip(X, y):\n",
        "            update = target - np.sign(np.dot(xi, weights) + bias)\n",
        "            weights += update * xi\n",
        "            bias += update\n",
        "    return weights, bias"
      ],
      "metadata": {
        "id": "4ePDjz2ZgzzE"
      },
      "execution_count": 28,
      "outputs": []
    },
    {
      "cell_type": "code",
      "source": [
        "def train_test_classifier(X_train, y_train, X_test, y_test, iterations):\n",
        "    weights, bias = perceptron(X_train, y_train, iterations)\n",
        "    train_predictions = np.sign(np.dot(X_train, weights) + bias)\n",
        "    test_predictions = np.sign(np.dot(X_test, weights) + bias)\n",
        "    train_accuracy = np.mean(train_predictions == y_train)\n",
        "    test_accuracy = np.mean(test_predictions == y_test)\n",
        "    return train_accuracy, test_accuracy, weights\n",
        "\n",
        "# Convert to binary datasets for each class pair\n",
        "y_train_1_vs_2 = np.where(y_train == 'class-1', 1, -1)\n",
        "y_test_1_vs_2 = np.where(y_test == 'class-1', 1, -1)\n",
        "\n",
        "y_train_2_vs_3 = np.where(y_train == 'class-2', 1, -1)\n",
        "y_test_2_vs_3 = np.where(y_test == 'class-2', 1, -1)\n",
        "\n",
        "y_train_1_vs_3 = np.where(y_train == 'class-1', 1, -1)\n",
        "y_test_1_vs_3 = np.where(y_test == 'class-1', 1, -1)\n",
        "\n",
        "# Train and test classifier for class 1 vs class 2\n",
        "train_acc_1_vs_2, test_acc_1_vs_2, weights_1_vs_2 = train_test_classifier(X_train, y_train_1_vs_2, X_test, y_test_1_vs_2, 20)\n",
        "\n",
        "# Train and test classifier for class 2 vs class 3\n",
        "train_acc_2_vs_3, test_acc_2_vs_3, weights_2_vs_3 = train_test_classifier(X_train, y_train_2_vs_3, X_test, y_test_2_vs_3, 20)\n",
        "\n",
        "# Train and test classifier for class 1 vs class 3\n",
        "train_acc_1_vs_3, test_acc_1_vs_3, weights_1_vs_3 = train_test_classifier(X_train, y_train_1_vs_3, X_test, y_test_1_vs_3, 20)"
      ],
      "metadata": {
        "id": "McRgwDpjg34k"
      },
      "execution_count": 29,
      "outputs": []
    },
    {
      "cell_type": "code",
      "source": [
        "# Create a list of accuracies\n",
        "train_accuracies = [train_acc_1_vs_2, train_acc_2_vs_3, train_acc_1_vs_3]\n",
        "test_accuracies = [test_acc_1_vs_2, test_acc_2_vs_3, test_acc_1_vs_3]\n",
        "class_pairs = ['Class 1 vs Class 2', 'Class 2 vs Class 3', 'Class 1 vs Class 3']\n",
        "\n",
        "# Plot training accuracies\n",
        "plt.figure(figsize=(12, 6))\n",
        "plt.subplot(1, 2, 1)\n",
        "plt.bar(class_pairs, train_accuracies, color='blue')\n",
        "plt.title('Training Accuracies')\n",
        "plt.ylabel('Accuracy')\n",
        "plt.ylim(0, 1)\n",
        "\n",
        "# Plot testing accuracies\n",
        "plt.subplot(1, 2, 2)\n",
        "plt.bar(class_pairs, test_accuracies, color='green')\n",
        "plt.title('Testing Accuracies')\n",
        "plt.ylabel('Accuracy')\n",
        "plt.ylim(0, 1)\n",
        "\n",
        "plt.tight_layout()\n",
        "plt.show()"
      ],
      "metadata": {
        "colab": {
          "base_uri": "https://localhost:8080/",
          "height": 329
        },
        "id": "BuBkNU_vhBfj",
        "outputId": "38bf9f12-d624-48e0-fe7e-6b86731ce2d4"
      },
      "execution_count": 31,
      "outputs": [
        {
          "output_type": "display_data",
          "data": {
            "text/plain": [
              "<Figure size 1200x600 with 2 Axes>"
            ],
            "image/png": "[encoded data removed]"
          },
          "metadata": {}
        }
      ]
    },
    {
      "cell_type": "code",
      "source": [
        "most_discriminative_feature_1_vs_2 = np.argmax(np.abs(weights_1_vs_2))\n",
        "most_discriminative_feature_2_vs_3 = np.argmax(np.abs(weights_2_vs_3))\n",
        "most_discriminative_feature_1_vs_3 = np.argmax(np.abs(weights_1_vs_3))\n",
        "\n",
        "print(f\"Most discriminative feature for Class 1 vs Class 2: {most_discriminative_feature_1_vs_2}\")\n",
        "print(f\"Most discriminative feature for Class 2 vs Class 3: {most_discriminative_feature_2_vs_3}\")\n",
        "print(f\"Most discriminative feature for Class 1 vs Class 3: {most_discriminative_feature_1_vs_3}\")"
      ],
      "metadata": {
        "colab": {
          "base_uri": "https://localhost:8080/"
        },
        "id": "ukz_bzp4hJOc",
        "outputId": "bfc462d6-b762-4f2a-8780-eaa29e789984"
      },
      "execution_count": 32,
      "outputs": [
        {
          "output_type": "stream",
          "name": "stdout",
          "text": [
            "Most discriminative feature for Class 1 vs Class 2: 2\n",
            "Most discriminative feature for Class 2 vs Class 3: 3\n",
            "Most discriminative feature for Class 1 vs Class 3: 2\n"
          ]
        }
      ]
    }
  ]
}